{
 "cells": [
  {
   "cell_type": "code",
   "execution_count": 11,
   "metadata": {
    "collapsed": true
   },
   "outputs": [],
   "source": [
    "import pandas as pd\n",
    "import numpy as np\n",
    "import matplotlib.pyplot as plt"
   ]
  },
  {
   "cell_type": "code",
   "execution_count": 12,
   "metadata": {
    "collapsed": true
   },
   "outputs": [],
   "source": [
    "df = pd.DataFrame(np.random.randint(0,80,size=(100, 2)), columns=list('xy'))"
   ]
  },
  {
   "cell_type": "code",
   "execution_count": 13,
   "metadata": {},
   "outputs": [
    {
     "name": "stdout",
     "output_type": "stream",
     "text": [
      "initial centroid {1: [9, 15], 2: [64, 28], 3: [29, 8]}\n"
     ]
    }
   ],
   "source": [
    "k = 3\n",
    "np.random.seed(10)\n",
    "centroid = {i+1:[np.random.randint(0,80), np.random.randint(0,80)] for i in range(k)}\n",
    "print(\"initial centroid\", centroid)\n",
    "old_centorid = {}"
   ]
  },
  {
   "cell_type": "code",
   "execution_count": 14,
   "metadata": {},
   "outputs": [
    {
     "data": {
      "image/png": "[encoded data removed]",
      "text/plain": [
       "<matplotlib.figure.Figure at 0x1c0f2a7dfd0>"
      ]
     },
     "metadata": {},
     "output_type": "display_data"
    }
   ],
   "source": [
    "plt.scatter(df['x'], df['y'], c='#050505', s=7)\n",
    "for i in centroid.keys():\n",
    "    plt.scatter(centroid[i][0], centroid[i][1], marker='*', s=200, c='g')\n",
    "plt.show()"
   ]
  },
  {
   "cell_type": "code",
   "execution_count": 15,
   "metadata": {},
   "outputs": [],
   "source": [
    "\n",
    "while (old_centorid != centroid):\n",
    "    distance_list = []\n",
    "    for i in centroid.keys():\n",
    "        distance_list.append((np.sqrt( ((df['x']- centroid[i][0]) ** 2) + ((df['y']- centroid[i][1]) ** 2))))\n",
    "\n",
    "    distance = np.vstack(distance_list)\n",
    "    clusters = np.argmin(distance, axis=0)\n",
    "    temp = centroid.copy()\n",
    "    df['clusters'] = clusters\n",
    "    adc = df.groupby('clusters').mean()\n",
    "    d = adc.to_dict('split')\n",
    "    centroid[1] = d['data'][0]\n",
    "    centroid[2] = d['data'][1]\n",
    "    centroid[3] = d['data'][2]\n",
    "    if (temp == centroid):\n",
    "        old_centorid = centroid"
   ]
  },
  {
   "cell_type": "code",
   "execution_count": 16,
   "metadata": {
    "collapsed": true
   },
   "outputs": [],
   "source": [
    "color = {0:'r', 1:'g', 2:'b'}\n",
    "df['color'] = df['clusters'].map(lambda x: color[x])"
   ]
  },
  {
   "cell_type": "code",
   "execution_count": 17,
   "metadata": {},
   "outputs": [
    {
     "data": {
      "image/png": "[encoded data removed]",
      "text/plain": [
       "<matplotlib.figure.Figure at 0x1c0f2a9d0f0>"
      ]
     },
     "metadata": {},
     "output_type": "display_data"
    }
   ],
   "source": [
    "for i in range(100):\n",
    "    plt.scatter(df['x'][i], df['y'][i], c=df['color'][i], s=7)\n",
    "for i in centroid.keys():\n",
    "    plt.scatter(centroid[i][0], centroid[i][1], marker='*', s=200, c='g')\n",
    "plt.show()"
   ]
  }
 ],
 "metadata": {
  "kernelspec": {
   "display_name": "Python 3",
   "language": "python",
   "name": "python3"
  },
  "language_info": {
   "codemirror_mode": {
    "name": "ipython",
    "version": 3
   },
   "file_extension": ".py",
   "mimetype": "text/x-python",
   "name": "python",
   "nbconvert_exporter": "python",
   "pygments_lexer": "ipython3",
   "version": "3.5.3"
  }
 },
 "nbformat": 4,
 "nbformat_minor": 2
}
